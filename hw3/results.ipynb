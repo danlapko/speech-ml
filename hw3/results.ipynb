{
 "cells": [
  {
   "cell_type": "code",
   "execution_count": 1,
   "metadata": {},
   "outputs": [],
   "source": [
    "from main import main_"
   ]
  },
  {
   "cell_type": "code",
   "execution_count": 2,
   "metadata": {},
   "outputs": [
    {
     "name": "stdout",
     "output_type": "stream",
     "text": [
      "########### USE 23 FBANK FEATURES ##########\n",
      "\n",
      "data/X.npy file loaded (5000, 1926, 23) float32\n",
      "data splited \n",
      "data/X_noised.npy file loaded (5000, 1926, 23) float32\n",
      "data splited \n",
      "model loaded\n",
      "\n",
      "STARTING TRAINING\n",
      "\n",
      "\n",
      "###### TEST MSE loss: origin 0.072407 denoised 0.016247 #######\n",
      "######      R2 score: origin 0.61382 denoised 0.91335 #######\n",
      "\n",
      "epoch 0 batch 0 loss_ 0.0144 \n",
      "epoch 0 batch 256 loss_ 0.0206 \n",
      "epoch 0 batch 512 loss_ 0.0218 \n",
      "epoch 0 batch 768 loss_ 0.0205 \n",
      "epoch 0 batch 1024 loss_ 0.0179 \n",
      "epoch 0 batch 1280 loss_ 0.0197 \n",
      "epoch 0 batch 1536 loss_ 0.0187 \n",
      "epoch 0 batch 1792 loss_ 0.0182 \n",
      "epoch 0 batch 2048 loss_ 0.0171 \n",
      "epoch 0 batch 2304 loss_ 0.0188 \n",
      "epoch 0 batch 2560 loss_ 0.0158 \n",
      "epoch 0 batch 2816 loss_ 0.015 \n",
      "epoch 0 batch 3072 loss_ 0.0145 \n",
      "epoch 0 batch 3328 loss_ 0.0167 \n",
      "epoch 0 batch 3584 loss_ 0.0171 \n",
      "epoch 0 batch 3840 loss_ 0.0151 \n",
      "\n",
      "###### TEST MSE loss: origin 0.072407 denoised 0.016725 #######\n",
      "######      R2 score: origin 0.61382 denoised 0.9108 #######\n",
      "\n"
     ]
    }
   ],
   "source": [
    "print(\"########### USE 23 FBANK FEATURES ##########\\n\")\n",
    "main_(n_audios_to_use=5000, epoches=1)\n",
    "\n",
    "# Model already pretrained (~60 epoches)"
   ]
  },
  {
   "cell_type": "code",
   "execution_count": 1,
   "metadata": {},
   "outputs": [
    {
     "name": "stdout",
     "output_type": "stream",
     "text": [
      "########### USE 13 MFCC FEATURES ##########\n",
      "\n",
      "data/X.npy file loaded (10000, 1926, 13) float32\n",
      "data splited \n",
      "data/X_noised.npy file loaded (10000, 1926, 13) float32\n",
      "data splited \n",
      "model loaded\n",
      "\n",
      "STARTING TRAINING\n",
      "\n",
      "\n",
      "###### TEST MSE loss: origin 0.1347 denoised 0.053979 #######\n",
      "######      R2 score: origin 0.30871 denoised 0.72298 #######\n",
      "\n",
      "epoch 0 batch 0 loss_ 0.0529 \n",
      "epoch 0 batch 256 loss_ 0.0546 \n",
      "epoch 0 batch 512 loss_ 0.0617 \n",
      "epoch 0 batch 768 loss_ 0.0541 \n",
      "epoch 0 batch 1024 loss_ 0.0541 \n",
      "epoch 0 batch 1280 loss_ 0.0525 \n",
      "epoch 0 batch 1536 loss_ 0.0528 \n",
      "epoch 0 batch 1792 loss_ 0.0588 \n",
      "epoch 0 batch 2048 loss_ 0.0567 \n",
      "epoch 0 batch 2304 loss_ 0.0521 \n",
      "\n",
      "###### TEST MSE loss: origin 0.1347 denoised 0.054046 #######\n",
      "######      R2 score: origin 0.30871 denoised 0.72264 #######\n",
      "\n"
     ]
    }
   ],
   "source": [
    "from main import main_\n",
    "\n",
    "print(\"########### USE 13 MFCC FEATURES ##########\\n\")\n",
    "main_(n_audios_to_use=3000, epoches=1)\n",
    "\n",
    "# Model already pretrained (~100 epoches)"
   ]
  }
 ],
 "metadata": {
  "kernelspec": {
   "display_name": "Python 3",
   "language": "python",
   "name": "python3"
  },
  "language_info": {
   "codemirror_mode": {
    "name": "ipython",
    "version": 3
   },
   "file_extension": ".py",
   "mimetype": "text/x-python",
   "name": "python",
   "nbconvert_exporter": "python",
   "pygments_lexer": "ipython3",
   "version": "3.6.8"
  }
 },
 "nbformat": 4,
 "nbformat_minor": 2
}
